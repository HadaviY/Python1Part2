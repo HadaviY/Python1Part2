{
  "nbformat": 4,
  "nbformat_minor": 0,
  "metadata": {
    "colab": {
      "provenance": [],
      "authorship_tag": "ABX9TyNjznaYRarkT+5pxFvse0TP",
      "include_colab_link": true
    },
    "kernelspec": {
      "name": "python3",
      "display_name": "Python 3"
    },
    "language_info": {
      "name": "python"
    }
  },
  "cells": [
    {
      "cell_type": "markdown",
      "metadata": {
        "id": "view-in-github",
        "colab_type": "text"
      },
      "source": [
        "<a href=\"https://colab.research.google.com/github/HadaviY/Python1Part2/blob/main/Python1Part3.ipynb\" target=\"_parent\"><img src=\"https://colab.research.google.com/assets/colab-badge.svg\" alt=\"Open In Colab\"/></a>"
      ]
    },
    {
      "cell_type": "markdown",
      "source": [
        "# **1. Containers**\n",
        "\n",
        "Python includes several built-in container types: lists, dictionaries, sets, and tuples"
      ],
      "metadata": {
        "id": "S6lw6MqRI2IE"
      }
    },
    {
      "cell_type": "markdown",
      "source": [
        " **1.1 Lists**\n",
        "\n",
        " A list is the Python equivalent of a variable (or an array like in C & C++), but is resizeable and can contain elements of different types:"
      ],
      "metadata": {
        "id": "xOybdT6lJFJe"
      }
    },
    {
      "cell_type": "code",
      "source": [
        "colors = ['red', 'blue', 'green', 'black']\n",
        "print(len(colors)) ##4"
      ],
      "metadata": {
        "colab": {
          "base_uri": "https://localhost:8080/"
        },
        "id": "0OUKEF0AJIUG",
        "outputId": "bfa47964-7ecd-4cc7-d30e-167c01b62cf9"
      },
      "execution_count": 1,
      "outputs": [
        {
          "output_type": "stream",
          "name": "stdout",
          "text": [
            "4\n"
          ]
        }
      ]
    },
    {
      "cell_type": "code",
      "source": [
        "type(colors)"
      ],
      "metadata": {
        "colab": {
          "base_uri": "https://localhost:8080/"
        },
        "id": "w6ta5cGRJlPa",
        "outputId": "1a540050-d3c5-442d-deb7-1c65c3b14487"
      },
      "execution_count": 2,
      "outputs": [
        {
          "output_type": "execute_result",
          "data": {
            "text/plain": [
              "list"
            ]
          },
          "metadata": {},
          "execution_count": 2
        }
      ]
    },
    {
      "cell_type": "code",
      "source": [
        "colors[1: ]"
      ],
      "metadata": {
        "colab": {
          "base_uri": "https://localhost:8080/"
        },
        "id": "fZOD_oObJn27",
        "outputId": "9ebd3bcb-788e-4909-93b5-068924d0cb12"
      },
      "execution_count": 3,
      "outputs": [
        {
          "output_type": "execute_result",
          "data": {
            "text/plain": [
              "['blue', 'green', 'black']"
            ]
          },
          "metadata": {},
          "execution_count": 3
        }
      ]
    },
    {
      "cell_type": "markdown",
      "source": [
        "**1.1.1 List Indexing**"
      ],
      "metadata": {
        "id": "PAbsGMrvJyyD"
      }
    },
    {
      "cell_type": "code",
      "source": [
        "mylist = [\"California\", \"Alaska\", \"Arizona\", \"Arkansas\", \"Colorado\", \"Illinois\"]\n",
        "print(mylist[0])\n",
        "print(mylist[2])\n",
        "print(mylist[4])\n",
        "print(mylist[-1])\n",
        "print(mylist[5])"
      ],
      "metadata": {
        "colab": {
          "base_uri": "https://localhost:8080/"
        },
        "id": "aAaM3eyTJtGa",
        "outputId": "4db78846-160d-43de-c410-5260d0942c80"
      },
      "execution_count": 4,
      "outputs": [
        {
          "output_type": "stream",
          "name": "stdout",
          "text": [
            "California\n",
            "Arizona\n",
            "Colorado\n",
            "Illinois\n",
            "Illinois\n"
          ]
        }
      ]
    },
    {
      "cell_type": "markdown",
      "source": [
        "**1.1.2 List Slices**"
      ],
      "metadata": {
        "id": "jKC2_KmhMufd"
      }
    },
    {
      "cell_type": "code",
      "source": [
        "mycolors = ['red', 'green', 'blue', 'yellow', 'white', 'black']\n",
        "print(mycolors)"
      ],
      "metadata": {
        "colab": {
          "base_uri": "https://localhost:8080/"
        },
        "id": "YenZaHnyMyDj",
        "outputId": "6dd7fafb-431a-4256-b3a3-976bd324f317"
      },
      "execution_count": 5,
      "outputs": [
        {
          "output_type": "stream",
          "name": "stdout",
          "text": [
            "['red', 'green', 'blue', 'yellow', 'white', 'black']\n"
          ]
        }
      ]
    },
    {
      "cell_type": "code",
      "source": [
        "print(mycolors[0]) ## red\n",
        "print(mycolors[2]) ## blue"
      ],
      "metadata": {
        "colab": {
          "base_uri": "https://localhost:8080/"
        },
        "id": "FrpJzG-iPeYD",
        "outputId": "e500fa76-098f-4d68-8ffd-5ad3074d7fd9"
      },
      "execution_count": 6,
      "outputs": [
        {
          "output_type": "stream",
          "name": "stdout",
          "text": [
            "red\n",
            "blue\n"
          ]
        }
      ]
    },
    {
      "cell_type": "code",
      "source": [
        "print(mycolors)\n",
        "mycolors[0] = \"purple\"\n",
        "print(mycolors)\n",
        "mycolors[2] = \"orange\"\n",
        "print(mycolors)"
      ],
      "metadata": {
        "colab": {
          "base_uri": "https://localhost:8080/"
        },
        "id": "fYNTlAgZPqoL",
        "outputId": "d8388ee6-89eb-4676-d1e7-8498afa1cf91"
      },
      "execution_count": 7,
      "outputs": [
        {
          "output_type": "stream",
          "name": "stdout",
          "text": [
            "['red', 'green', 'blue', 'yellow', 'white', 'black']\n",
            "['purple', 'green', 'blue', 'yellow', 'white', 'black']\n",
            "['purple', 'green', 'orange', 'yellow', 'white', 'black']\n"
          ]
        }
      ]
    },
    {
      "cell_type": "code",
      "source": [
        "# all elements in the list up to, but not including the last one.\n",
        "print(mycolors[:-1])"
      ],
      "metadata": {
        "colab": {
          "base_uri": "https://localhost:8080/"
        },
        "id": "vbBodtTNQMQI",
        "outputId": "6ca8a2f9-500b-4e95-f814-02902e0858dc"
      },
      "execution_count": 8,
      "outputs": [
        {
          "output_type": "stream",
          "name": "stdout",
          "text": [
            "['purple', 'green', 'orange', 'yellow', 'white']\n"
          ]
        }
      ]
    },
    {
      "cell_type": "code",
      "source": [
        "# start from the second element (index 1) up to, but not including the last element\n",
        "sliced_list = mycolors[1:-1]\n",
        "print(sliced_list)"
      ],
      "metadata": {
        "colab": {
          "base_uri": "https://localhost:8080/"
        },
        "id": "1em1syHlQx_F",
        "outputId": "4811618b-2031-4fdb-fc88-d3da5d3a8833"
      },
      "execution_count": 9,
      "outputs": [
        {
          "output_type": "stream",
          "name": "stdout",
          "text": [
            "['green', 'orange', 'yellow', 'white']\n"
          ]
        }
      ]
    },
    {
      "cell_type": "markdown",
      "source": [
        "**1.1.3 List Methods**"
      ],
      "metadata": {
        "id": "m1UdzEb2RKmY"
      }
    },
    {
      "cell_type": "code",
      "source": [
        "L1 = ['larry', 'curly', 'moe']\n",
        "print(L1)"
      ],
      "metadata": {
        "colab": {
          "base_uri": "https://localhost:8080/"
        },
        "id": "Tezc_Z0uRJug",
        "outputId": "afb5fd49-a32f-4ba3-da58-226b475cfcb3"
      },
      "execution_count": 10,
      "outputs": [
        {
          "output_type": "stream",
          "name": "stdout",
          "text": [
            "['larry', 'curly', 'moe']\n"
          ]
        }
      ]
    },
    {
      "cell_type": "code",
      "source": [
        "# list.append(elem) -- adds a single element to the end of the list\n",
        "# Common error: does not return the new list, just modifies the original.\n",
        "L1.append('shemp')    ## append elem at end\n",
        "print(L1)"
      ],
      "metadata": {
        "colab": {
          "base_uri": "https://localhost:8080/"
        },
        "id": "qwtrMAWWRt1V",
        "outputId": "a885d88a-9f99-449d-9999-6274d1a08055"
      },
      "execution_count": 11,
      "outputs": [
        {
          "output_type": "stream",
          "name": "stdout",
          "text": [
            "['larry', 'curly', 'moe', 'shemp']\n"
          ]
        }
      ]
    },
    {
      "cell_type": "code",
      "source": [
        "# list.insert(index, elem) -- inserts the element at the given index, shifting elements to the right.\n",
        "L1.insert(4, 'xxx')\n",
        "print(L1)"
      ],
      "metadata": {
        "colab": {
          "base_uri": "https://localhost:8080/"
        },
        "id": "qai2ggKCSD3U",
        "outputId": "a2b6181d-561a-44dc-db85-1f4891aa61e8"
      },
      "execution_count": 18,
      "outputs": [
        {
          "output_type": "stream",
          "name": "stdout",
          "text": [
            "['larry', 'curly', 'moe', 'shemp', 'xxx', 'xxx', 'xxx', 'xxx', 'xxx', 'xxx', 'xxx']\n"
          ]
        }
      ]
    },
    {
      "cell_type": "code",
      "source": [
        "# list.extend(list2) adds the elements in list2 to the end of the list. Using + a list is similar to using extend().\n",
        "L2 = ['zzz', 'yyy', 'xxx']\n",
        "L1.extend(L2)\n",
        "print(L1)"
      ],
      "metadata": {
        "colab": {
          "base_uri": "https://localhost:8080/"
        },
        "id": "KBOivguWSpII",
        "outputId": "0bb70551-5419-4ffd-9665-caef4525db3b"
      },
      "execution_count": 19,
      "outputs": [
        {
          "output_type": "stream",
          "name": "stdout",
          "text": [
            "['larry', 'curly', 'moe', 'shemp', 'xxx', 'xxx', 'xxx', 'xxx', 'xxx', 'xxx', 'xxx', 'zzz', 'yyy', 'xxx']\n"
          ]
        }
      ]
    },
    {
      "cell_type": "code",
      "source": [
        "# list.remove(elem) -- searches for the first instance of the given element and removes it\n",
        "L1.remove('curly')\n",
        "print(L1)"
      ],
      "metadata": {
        "colab": {
          "base_uri": "https://localhost:8080/"
        },
        "id": "D9XTPZKMTVvy",
        "outputId": "520117af-2352-42d4-d7a3-2eb8b9d4a552"
      },
      "execution_count": 20,
      "outputs": [
        {
          "output_type": "stream",
          "name": "stdout",
          "text": [
            "['larry', 'moe', 'shemp', 'xxx', 'xxx', 'xxx', 'xxx', 'xxx', 'xxx', 'xxx', 'zzz', 'yyy', 'xxx']\n"
          ]
        }
      ]
    },
    {
      "cell_type": "code",
      "source": [
        "#list.sort() -- sorts the list in place (does not return it). (The sorted() function is preferred)\n",
        "L1.sort()\n",
        "print(L1)"
      ],
      "metadata": {
        "colab": {
          "base_uri": "https://localhost:8080/"
        },
        "id": "tqdT0KcVTgpU",
        "outputId": "b0029a08-2cc5-40fc-dc1c-3ee372b15ffd"
      },
      "execution_count": 22,
      "outputs": [
        {
          "output_type": "stream",
          "name": "stdout",
          "text": [
            "['larry', 'moe', 'shemp', 'xxx', 'xxx', 'xxx', 'xxx', 'xxx', 'xxx', 'xxx', 'xxx', 'yyy', 'zzz']\n"
          ]
        }
      ]
    },
    {
      "cell_type": "code",
      "source": [
        "# list.reverse() -- reverses the list in place (does not return it)\n",
        "L1.reverse()\n",
        "print(L1)"
      ],
      "metadata": {
        "colab": {
          "base_uri": "https://localhost:8080/"
        },
        "id": "i-ZUNre8U4oI",
        "outputId": "71a65564-7041-49a6-9453-bb10e9fe4698"
      },
      "execution_count": 23,
      "outputs": [
        {
          "output_type": "stream",
          "name": "stdout",
          "text": [
            "['zzz', 'yyy', 'xxx', 'xxx', 'xxx', 'xxx', 'xxx', 'xxx', 'xxx', 'xxx', 'shemp', 'moe', 'larry']\n"
          ]
        }
      ]
    },
    {
      "cell_type": "code",
      "source": [
        "# list.pop(index) -- removes and returns the lement at the given index\n",
        "# Returns the rightmost element if index is omitted (roughly the opposite of append())\n",
        "popped_item = L1.pop(2)\n",
        "print(popped_item)\n",
        "print(L1)"
      ],
      "metadata": {
        "colab": {
          "base_uri": "https://localhost:8080/"
        },
        "id": "buvCdYIeVDLq",
        "outputId": "8bf6f62b-0a7f-4202-9596-709ff2c3620d"
      },
      "execution_count": 24,
      "outputs": [
        {
          "output_type": "stream",
          "name": "stdout",
          "text": [
            "xxx\n",
            "['zzz', 'yyy', 'xxx', 'xxx', 'xxx', 'xxx', 'xxx', 'xxx', 'xxx', 'shemp', 'moe', 'larry']\n"
          ]
        }
      ]
    },
    {
      "cell_type": "markdown",
      "source": [
        "# **1.2 Tuples**\n",
        "\n",
        "**1.2.1 Creating Tuples**\n",
        "\n",
        "Unlike Lists, Tuples are immutable and can't be altered."
      ],
      "metadata": {
        "id": "RGdxzbOvVdg3"
      }
    },
    {
      "cell_type": "code",
      "source": [
        "# Let's create a tuple\n",
        "# Unlike lists, no square brackets are needed to create tuples\n",
        "mytuple = ('cat', 'dog', 'fish')\n",
        "print(mytuple)"
      ],
      "metadata": {
        "colab": {
          "base_uri": "https://localhost:8080/"
        },
        "id": "kkWsb8JeVqv5",
        "outputId": "89ee60e2-05b1-43cc-c901-68be01a1ad2a"
      },
      "execution_count": 25,
      "outputs": [
        {
          "output_type": "stream",
          "name": "stdout",
          "text": [
            "('cat', 'dog', 'fish')\n"
          ]
        }
      ]
    },
    {
      "cell_type": "code",
      "source": [
        "type(mytuple)"
      ],
      "metadata": {
        "colab": {
          "base_uri": "https://localhost:8080/"
        },
        "id": "Y9QufGvaV7ds",
        "outputId": "ce5b3c3b-f96a-4115-9656-522d94108a51"
      },
      "execution_count": 26,
      "outputs": [
        {
          "output_type": "execute_result",
          "data": {
            "text/plain": [
              "tuple"
            ]
          },
          "metadata": {},
          "execution_count": 26
        }
      ]
    },
    {
      "cell_type": "code",
      "source": [
        "# Let's try to change an element in our Tuple\n",
        "mytuple[0] = 'bird'"
      ],
      "metadata": {
        "colab": {
          "base_uri": "https://localhost:8080/",
          "height": 158
        },
        "id": "50WgcizuWANN",
        "outputId": "9c07dddf-d9d8-4758-8f36-d850e485597a"
      },
      "execution_count": 27,
      "outputs": [
        {
          "output_type": "error",
          "ename": "TypeError",
          "evalue": "'tuple' object does not support item assignment",
          "traceback": [
            "\u001b[0;31m---------------------------------------------------------------------------\u001b[0m",
            "\u001b[0;31mTypeError\u001b[0m                                 Traceback (most recent call last)",
            "\u001b[0;32m/tmp/ipython-input-3506331502.py\u001b[0m in \u001b[0;36m<cell line: 0>\u001b[0;34m()\u001b[0m\n\u001b[1;32m      1\u001b[0m \u001b[0;31m# Let's try to change an element in our Tuple\u001b[0m\u001b[0;34m\u001b[0m\u001b[0;34m\u001b[0m\u001b[0m\n\u001b[0;32m----> 2\u001b[0;31m \u001b[0mmytuple\u001b[0m\u001b[0;34m[\u001b[0m\u001b[0;36m0\u001b[0m\u001b[0;34m]\u001b[0m \u001b[0;34m=\u001b[0m \u001b[0;34m'bird'\u001b[0m\u001b[0;34m\u001b[0m\u001b[0;34m\u001b[0m\u001b[0m\n\u001b[0m",
            "\u001b[0;31mTypeError\u001b[0m: 'tuple' object does not support item assignment"
          ]
        }
      ]
    },
    {
      "cell_type": "code",
      "source": [
        "print(mytuple)"
      ],
      "metadata": {
        "colab": {
          "base_uri": "https://localhost:8080/"
        },
        "id": "LuXiGT2gWI83",
        "outputId": "99e86f2f-5d0d-4cab-b734-69583e674fd2"
      },
      "execution_count": 28,
      "outputs": [
        {
          "output_type": "stream",
          "name": "stdout",
          "text": [
            "('cat', 'dog', 'fish')\n"
          ]
        }
      ]
    },
    {
      "cell_type": "markdown",
      "source": [
        "**1.2.2 Replicating Tuples**"
      ],
      "metadata": {
        "id": "XSoxYZb9bRji"
      }
    },
    {
      "cell_type": "code",
      "source": [
        "T = (1,4,6) * 3\n",
        "print(T)"
      ],
      "metadata": {
        "colab": {
          "base_uri": "https://localhost:8080/"
        },
        "id": "wXquszcqX0WZ",
        "outputId": "715e1292-a0fa-46fd-d8df-31094ef81d83"
      },
      "execution_count": 31,
      "outputs": [
        {
          "output_type": "stream",
          "name": "stdout",
          "text": [
            "(1, 4, 6, 1, 4, 6, 1, 4, 6)\n"
          ]
        }
      ]
    },
    {
      "cell_type": "markdown",
      "source": [
        "**1.2.3 Slicing Tuples**"
      ],
      "metadata": {
        "id": "nlNPY1vxbt-6"
      }
    },
    {
      "cell_type": "code",
      "source": [
        "t = (1,2,3,4,5,6)\n",
        "print(t[2:4])"
      ],
      "metadata": {
        "colab": {
          "base_uri": "https://localhost:8080/"
        },
        "id": "qd0rg6NCbx8T",
        "outputId": "d2ee993f-bc5c-4351-aa50-74cb6a361299"
      },
      "execution_count": 32,
      "outputs": [
        {
          "output_type": "stream",
          "name": "stdout",
          "text": [
            "(3, 4)\n"
          ]
        }
      ]
    },
    {
      "cell_type": "markdown",
      "source": [
        "# **1.3 Dictionaries**\n",
        "\n",
        "Python's efficient key:value hash table structure is called a \"dict\"\n",
        "\n",
        "The contents of a dict can be written as a series of key:value pairs within braces {}"
      ],
      "metadata": {
        "id": "7GPbEGPCcL25"
      }
    },
    {
      "cell_type": "code",
      "source": [
        "## Can build up a dict by starting with the empty dict {}\n",
        "## and storing key:value pairs into the dict like this:\n",
        "## dict[key] = value-for-that-key\n",
        "phonebook = {}\n",
        "phonebook[\"John\"] = 938477566\n",
        "phonebook[\"Jack\"] = 938377264\n",
        "phonebook[\"Jill\"] = 947662781\n",
        "print(phonebook)"
      ],
      "metadata": {
        "colab": {
          "base_uri": "https://localhost:8080/"
        },
        "id": "EjEzBg0vcfU4",
        "outputId": "93a9bc6e-afc8-4603-c5b3-88c2cd4b1d00"
      },
      "execution_count": 33,
      "outputs": [
        {
          "output_type": "stream",
          "name": "stdout",
          "text": [
            "{'John': 938477566, 'Jack': 938377264, 'Jill': 947662781}\n"
          ]
        }
      ]
    },
    {
      "cell_type": "code",
      "source": [
        "print(phonebook[\"John\"])"
      ],
      "metadata": {
        "colab": {
          "base_uri": "https://localhost:8080/"
        },
        "id": "Td0sZn1VcxEV",
        "outputId": "2f8c688a-e287-479c-b1e0-4f99911f6615"
      },
      "execution_count": 37,
      "outputs": [
        {
          "output_type": "stream",
          "name": "stdout",
          "text": [
            "876597754766\n"
          ]
        }
      ]
    },
    {
      "cell_type": "code",
      "source": [
        "phonebook['John'] = 876597754766\n",
        "print(phonebook)"
      ],
      "metadata": {
        "colab": {
          "base_uri": "https://localhost:8080/"
        },
        "id": "8FAoUeBCdeM3",
        "outputId": "f13c4334-f11f-4f97-c37f-780d31fe904b"
      },
      "execution_count": 39,
      "outputs": [
        {
          "output_type": "stream",
          "name": "stdout",
          "text": [
            "{'John': 876597754766, 'Jack': 938377264, 'Jill': 947662781, 'Joe': 876597754766}\n"
          ]
        }
      ]
    },
    {
      "cell_type": "code",
      "source": [
        "print(phonebook.keys())"
      ],
      "metadata": {
        "colab": {
          "base_uri": "https://localhost:8080/"
        },
        "id": "zzeRnWETdo2Y",
        "outputId": "0a08e82d-f08e-4344-b433-357e8d3e2582"
      },
      "execution_count": 40,
      "outputs": [
        {
          "output_type": "stream",
          "name": "stdout",
          "text": [
            "dict_keys(['John', 'Jack', 'Jill', 'Joe'])\n"
          ]
        }
      ]
    },
    {
      "cell_type": "code",
      "source": [
        "print(phonebook.values())"
      ],
      "metadata": {
        "colab": {
          "base_uri": "https://localhost:8080/"
        },
        "id": "h-PRoMuidv89",
        "outputId": "c550fca1-1f85-4033-cff2-8866c80beeed"
      },
      "execution_count": 41,
      "outputs": [
        {
          "output_type": "stream",
          "name": "stdout",
          "text": [
            "dict_values([876597754766, 938377264, 947662781, 876597754766])\n"
          ]
        }
      ]
    },
    {
      "cell_type": "code",
      "source": [
        "print(phonebook.items())"
      ],
      "metadata": {
        "colab": {
          "base_uri": "https://localhost:8080/"
        },
        "id": "57ebJptRehs1",
        "outputId": "4bc02f6b-2ff5-4ad7-c0de-6c8557e23487"
      },
      "execution_count": 42,
      "outputs": [
        {
          "output_type": "stream",
          "name": "stdout",
          "text": [
            "dict_items([('John', 876597754766), ('Jack', 938377264), ('Jill', 947662781), ('Joe', 876597754766)])\n"
          ]
        }
      ]
    },
    {
      "cell_type": "code",
      "source": [
        "countries = {'CA': 'Canada', 'US': 'United States', 'MX': 'Mexico'}\n",
        "print(countries['CA'])"
      ],
      "metadata": {
        "colab": {
          "base_uri": "https://localhost:8080/"
        },
        "id": "93aYlp9cerAn",
        "outputId": "f1890f77-8cef-4459-c00d-c0df688ae576"
      },
      "execution_count": 43,
      "outputs": [
        {
          "output_type": "stream",
          "name": "stdout",
          "text": [
            "Canada\n"
          ]
        }
      ]
    },
    {
      "cell_type": "code",
      "source": [
        "states = {'NY': 'New York', 'CA': 'Los Angeles', 'TX': 'Austin', 'IL': ['Chicago', 'Des Plaines', 'Oak Park']}\n",
        "states ['IL']"
      ],
      "metadata": {
        "colab": {
          "base_uri": "https://localhost:8080/"
        },
        "id": "Bh-ptByIexlf",
        "outputId": "eea3b25b-d512-4bd9-be24-5b5cf3147b6b"
      },
      "execution_count": 45,
      "outputs": [
        {
          "output_type": "execute_result",
          "data": {
            "text/plain": [
              "['Chicago', 'Des Plaines', 'Oak Park']"
            ]
          },
          "metadata": {},
          "execution_count": 45
        }
      ]
    },
    {
      "cell_type": "markdown",
      "source": [
        "# **2. Conditionals & Loops**\n",
        "**2.1 Comparison Operators (Relational Operators)**"
      ],
      "metadata": {
        "id": "4nxg3Vy-e-sr"
      }
    },
    {
      "cell_type": "code",
      "source": [
        "print (12 < 19)"
      ],
      "metadata": {
        "colab": {
          "base_uri": "https://localhost:8080/"
        },
        "id": "T4CJC-GXfKod",
        "outputId": "bfda32fe-74be-41b6-8e3f-041a3814ab93"
      },
      "execution_count": 46,
      "outputs": [
        {
          "output_type": "stream",
          "name": "stdout",
          "text": [
            "True\n"
          ]
        }
      ]
    },
    {
      "cell_type": "code",
      "source": [
        "print (87 < 36)"
      ],
      "metadata": {
        "colab": {
          "base_uri": "https://localhost:8080/"
        },
        "id": "q4akmBOcfO_d",
        "outputId": "e25d874e-15e8-42ce-c895-8914ef7faab0"
      },
      "execution_count": 47,
      "outputs": [
        {
          "output_type": "stream",
          "name": "stdout",
          "text": [
            "False\n"
          ]
        }
      ]
    },
    {
      "cell_type": "code",
      "source": [
        "a = 9.2 > 10.1\n",
        "print(a)"
      ],
      "metadata": {
        "colab": {
          "base_uri": "https://localhost:8080/"
        },
        "id": "cGXzr3TJfSZX",
        "outputId": "cce613b5-7c2b-43ed-c51a-8418dfa85033"
      },
      "execution_count": 48,
      "outputs": [
        {
          "output_type": "stream",
          "name": "stdout",
          "text": [
            "False\n"
          ]
        }
      ]
    },
    {
      "cell_type": "code",
      "source": [
        "print (32 == 23)"
      ],
      "metadata": {
        "colab": {
          "base_uri": "https://localhost:8080/"
        },
        "id": "yexrBPERfZXQ",
        "outputId": "1cf411ac-1a09-4eaf-f4b9-a5219582817e"
      },
      "execution_count": 49,
      "outputs": [
        {
          "output_type": "stream",
          "name": "stdout",
          "text": [
            "False\n"
          ]
        }
      ]
    },
    {
      "cell_type": "markdown",
      "source": [
        "**2.2 Control Flow Statements**"
      ],
      "metadata": {
        "id": "vzT-j4fzfwtt"
      }
    },
    {
      "cell_type": "code",
      "source": [
        "# Sequential Structure: follow the structure line by line\n",
        "a = 5\n",
        "print (a, 'is an integer')"
      ],
      "metadata": {
        "colab": {
          "base_uri": "https://localhost:8080/"
        },
        "id": "YokxBQzHfigp",
        "outputId": "bdad8e4b-635a-41fe-c848-0fced652cec9"
      },
      "execution_count": 50,
      "outputs": [
        {
          "output_type": "stream",
          "name": "stdout",
          "text": [
            "5 is an integer\n"
          ]
        }
      ]
    },
    {
      "cell_type": "markdown",
      "source": [
        "**2.3 If/Else Conditional Statements**"
      ],
      "metadata": {
        "id": "zTsnf2F6fuhc"
      }
    },
    {
      "cell_type": "code",
      "source": [
        "x = 31\n",
        "if x % 4 == 0:\n",
        "  print(\"This number is dividible by 4\")\n",
        "else:\n",
        "  print(\"This number is not dividible by 4\")"
      ],
      "metadata": {
        "colab": {
          "base_uri": "https://localhost:8080/"
        },
        "id": "op40gCVAf6nV",
        "outputId": "28f6839c-826e-4278-c6f1-fc331d992e18"
      },
      "execution_count": 52,
      "outputs": [
        {
          "output_type": "stream",
          "name": "stdout",
          "text": [
            "This number is not dividible by 4\n"
          ]
        }
      ]
    },
    {
      "cell_type": "code",
      "source": [
        "y = 32\n",
        "if y % 4 == 0:\n",
        "  print(\"This number is dividible by 4\")\n",
        "else:\n",
        "  print(\"This number is not dividible by 4\")"
      ],
      "metadata": {
        "colab": {
          "base_uri": "https://localhost:8080/"
        },
        "id": "dr6PJh5XgRxx",
        "outputId": "63bbd632-5b39-42fc-b883-e5762e0d3aa1"
      },
      "execution_count": 53,
      "outputs": [
        {
          "output_type": "stream",
          "name": "stdout",
          "text": [
            "This number is dividible by 4\n"
          ]
        }
      ]
    },
    {
      "cell_type": "code",
      "source": [
        "x = input('Enter a number: ')\n",
        "x = int(x)\n",
        "if x % 4 == 0:\n",
        "  print(\"This number is dividible by 4\")\n",
        "else:\n",
        "  print(\"This number is not dividible by 4\")"
      ],
      "metadata": {
        "colab": {
          "base_uri": "https://localhost:8080/"
        },
        "id": "8Yfs-IIygYVa",
        "outputId": "f08f068b-8b77-42cd-b3ef-65ba8f474e27"
      },
      "execution_count": 54,
      "outputs": [
        {
          "output_type": "stream",
          "name": "stdout",
          "text": [
            "Enter a number: 3\n",
            "This number is not dividible by 4\n"
          ]
        }
      ]
    },
    {
      "cell_type": "markdown",
      "source": [
        "**2.4 If Elif Else**"
      ],
      "metadata": {
        "id": "dujh5PRvhjIX"
      }
    },
    {
      "cell_type": "code",
      "source": [
        "n = 12\n",
        "if n % 3 == 0:\n",
        "  print(\"This number is dividible by 3\")\n",
        "elif n % 5 == 0:\n",
        "  print(\"This number is dividible by 5\")\n",
        "else:\n",
        "  print(\"This number is not dividible by 3 or 5\")"
      ],
      "metadata": {
        "colab": {
          "base_uri": "https://localhost:8080/"
        },
        "id": "CFHZcFWchh5_",
        "outputId": "18ccf10c-0a2b-4ffd-c9ee-79ab6f25b778"
      },
      "execution_count": 55,
      "outputs": [
        {
          "output_type": "stream",
          "name": "stdout",
          "text": [
            "This number is dividible by 3\n"
          ]
        }
      ]
    },
    {
      "cell_type": "markdown",
      "source": [
        "**2.5 For Loops**"
      ],
      "metadata": {
        "id": "QnfQrcdaitdc"
      }
    },
    {
      "cell_type": "code",
      "source": [
        "v = [45, 89, 56]\n",
        "out = 0 # Initialize a variable out to store the sum\n",
        "for val in v: #creates the condition for the loop to go through the values in v one by one\n",
        "  out += val\n",
        "  print(out)\n",
        "print(\"Sum of the 3 elements of the vector v: \", out)"
      ],
      "metadata": {
        "colab": {
          "base_uri": "https://localhost:8080/"
        },
        "id": "72bdTBIkistb",
        "outputId": "42d5e0c5-22ae-4510-f53d-dfc92d2bc88e"
      },
      "execution_count": 56,
      "outputs": [
        {
          "output_type": "stream",
          "name": "stdout",
          "text": [
            "45\n",
            "134\n",
            "190\n",
            "Sum of the 3 elements of the vector v:  190\n"
          ]
        }
      ]
    },
    {
      "cell_type": "markdown",
      "source": [
        "**2.6 While Loop**"
      ],
      "metadata": {
        "id": "6OxPIO5OjXYK"
      }
    },
    {
      "cell_type": "code",
      "source": [
        "# Simple counting example\n",
        "count = 1\n",
        "\n",
        "while count <= 5: # runs while count is less than or equal to 5\n",
        "     print(\"Count is:\", count)\n",
        "     count += 1 # increase count by 1\n",
        "\n",
        "print(\"End of while loop\")"
      ],
      "metadata": {
        "colab": {
          "base_uri": "https://localhost:8080/"
        },
        "id": "eUxCKzTtjau9",
        "outputId": "216a7d48-aee7-45d5-c7cf-fdcab00a7ca1"
      },
      "execution_count": 57,
      "outputs": [
        {
          "output_type": "stream",
          "name": "stdout",
          "text": [
            "Count is: 1\n",
            "Count is: 2\n",
            "Count is: 3\n",
            "Count is: 4\n",
            "Count is: 5\n",
            "End of while loop\n"
          ]
        }
      ]
    },
    {
      "cell_type": "code",
      "source": [
        "a = 0 # Initialize sum variable\n",
        "b = 1 # Start counting from 1\n",
        "N = int(input(\"Enter number: \")) # Take user input and convert it to an integer\n",
        "\n",
        "while b <= N: # Loop until 'b' exceeds 'N'\n",
        "   a = a + b  # Add 'b' to 'a'\n",
        "   b = b + 1  # Increment 'b' by 1\n",
        "\n",
        "# If N = 5, the loop is:\n",
        "# a = 0 + 1 = 1, b = 1 + 1 = 2\n",
        "# a = 1 + 2 = 3, b = 2 + 1 = 3\n",
        "# a = 3 + 3 = 6, b = 3 + 1 = 4\n",
        "# a = 6 + 4 = 10, b = 4 + 1 = 5\n",
        "# a = 10 + 5 = 15, b = 5 + 1 = 6\n",
        "# Loop stops here because b is no longer less than or equal to N\n",
        "\n",
        "print(\"Sum of the numbers from 1 to\", N, \"numbers is:\", a)"
      ],
      "metadata": {
        "colab": {
          "base_uri": "https://localhost:8080/"
        },
        "id": "MePDvcjdkBMw",
        "outputId": "882fce66-30f4-4929-87f0-fd7abcf4f7e2"
      },
      "execution_count": 58,
      "outputs": [
        {
          "output_type": "stream",
          "name": "stdout",
          "text": [
            "Enter number: 5\n",
            "Sum of the numbers from 1 to 5 numbers is: 15\n"
          ]
        }
      ]
    },
    {
      "cell_type": "markdown",
      "source": [
        "# **3. Break & Continue**\n",
        "\n",
        "**3.1 Break**"
      ],
      "metadata": {
        "id": "Sj7GI-5ClBNj"
      }
    },
    {
      "cell_type": "code",
      "source": [
        "M = 10  # Set the limit to 10\n",
        "j = 1   # Start with j = 1\n",
        "\n",
        "while j <= M:  # Run the loop while j is less than or equal to 10\n",
        "  if j % 2 == 0:  # Check if j is divisible by 2\n",
        "    print(j, \"is divisible by 2\")\n",
        "    if j % 3 == 0:  # Check if j is also divisible by 3\n",
        "      print(j, \"is divisible by 3\")\n",
        "      break  # Stop the loop if j is divisible by both 2 and 3\n",
        "  j = j + 1  # Increment j by 1\n",
        "\n",
        "  # Condition 1 (Divsible by 2) must be met, before moving on to condition 2, and if both conditions are met, break the loop"
      ],
      "metadata": {
        "colab": {
          "base_uri": "https://localhost:8080/"
        },
        "id": "6Qm3SPWMlIIT",
        "outputId": "d675a8a0-d19e-4bdf-d09d-68f2125777dd"
      },
      "execution_count": 59,
      "outputs": [
        {
          "output_type": "stream",
          "name": "stdout",
          "text": [
            "2 is divisible by 2\n",
            "4 is divisible by 2\n",
            "6 is divisible by 2\n",
            "6 is divisible by 3\n"
          ]
        }
      ]
    },
    {
      "cell_type": "markdown",
      "source": [
        "**3.2 Continue**"
      ],
      "metadata": {
        "id": "Y-AlBSlRlQbs"
      }
    },
    {
      "cell_type": "code",
      "source": [
        "for letter in 'Python':\n",
        "    if letter == 'h':\n",
        "        continue\n",
        "    print('Current Letter :', letter)"
      ],
      "metadata": {
        "colab": {
          "base_uri": "https://localhost:8080/"
        },
        "id": "YL6CRTdblULc",
        "outputId": "2e24fe60-0190-4166-b941-27b6b484059b"
      },
      "execution_count": 60,
      "outputs": [
        {
          "output_type": "stream",
          "name": "stdout",
          "text": [
            "Current Letter : P\n",
            "Current Letter : y\n",
            "Current Letter : t\n",
            "Current Letter : o\n",
            "Current Letter : n\n"
          ]
        }
      ]
    },
    {
      "cell_type": "markdown",
      "source": [
        "# **Examples from Class**"
      ],
      "metadata": {
        "id": "1Pl3uoJAlYT2"
      }
    },
    {
      "cell_type": "code",
      "execution_count": null,
      "metadata": {
        "colab": {
          "base_uri": "https://localhost:8080/"
        },
        "id": "3wl0cYk_7z5P",
        "outputId": "4faf1c20-93ea-4f9b-dce3-be09d9eadf3a"
      },
      "outputs": [
        {
          "output_type": "stream",
          "name": "stdout",
          "text": [
            "['honda', 'suzuki', 'yamaha']\n",
            "honda\n",
            "['honda', 'Harley', 'yamaha']\n"
          ]
        }
      ],
      "source": [
        "motorcycles: list[str] = [\"honda\", \"suzuki\", \"yamaha\"]\n",
        "print(motorcycles)\n",
        "print (motorcycles[0])\n",
        "motorcycles[1] = \"Harley\"\n",
        "print(motorcycles)"
      ]
    },
    {
      "cell_type": "code",
      "source": [
        "motorcycles: list[str] = [\"honda\", \"suzuki\", \"yamaha\"]\n",
        "motorcycles.append(\"Harley\")\n",
        "print(motorcycles)"
      ],
      "metadata": {
        "colab": {
          "base_uri": "https://localhost:8080/"
        },
        "id": "MzPXU_I49YHg",
        "outputId": "73de2586-95ad-4829-f98b-88c7784db64f"
      },
      "execution_count": null,
      "outputs": [
        {
          "output_type": "stream",
          "name": "stdout",
          "text": [
            "['honda', 'suzuki', 'yamaha', 'Harley']\n"
          ]
        }
      ]
    },
    {
      "cell_type": "code",
      "source": [
        "def add(a: str, b: str) -> int:\n",
        "    return a + b\n",
        "print(add(1.8, 2.5))"
      ],
      "metadata": {
        "colab": {
          "base_uri": "https://localhost:8080/"
        },
        "id": "sraL6fHb9u9Q",
        "outputId": "bec4e93a-6228-40ce-ad39-a138212ed2a7"
      },
      "execution_count": null,
      "outputs": [
        {
          "output_type": "stream",
          "name": "stdout",
          "text": [
            "4.3\n"
          ]
        }
      ]
    },
    {
      "cell_type": "code",
      "source": [
        "def greet(name: str, greeting:str):\n",
        "  print (f\"{greeting}, {name}!\")"
      ],
      "metadata": {
        "id": "vetSRQ5F-zTM"
      },
      "execution_count": null,
      "outputs": []
    },
    {
      "cell_type": "code",
      "source": [
        "section_102: list[str]= [\"Hari\", \"Owen\", \"Liam\", \"Henry\", \"Emmanuel\"]  #I use type annotation for this code\n",
        "section_102 = [\"Hari\", \"Owen\", \"Liam\", \"Henry\", \"Emmanuel\"]\n",
        "for name in section_102:\n",
        "  print(name)"
      ],
      "metadata": {
        "colab": {
          "base_uri": "https://localhost:8080/"
        },
        "id": "ROLA0lcoOLkY",
        "outputId": "8ab0df55-96ce-4fab-d88c-a90424745d54"
      },
      "execution_count": null,
      "outputs": [
        {
          "output_type": "stream",
          "name": "stdout",
          "text": [
            "Hari\n",
            "Owen\n",
            "Liam\n",
            "Henry\n",
            "Emmanuel\n"
          ]
        }
      ]
    },
    {
      "cell_type": "code",
      "source": [
        "section_102 = [\"Hari\", \"Owen\", \"Liam\", \"Henry\", \"Emmanuel\"]\n",
        "section_102[2] = \"Yasamin\"\n",
        "print(section_102)"
      ],
      "metadata": {
        "colab": {
          "base_uri": "https://localhost:8080/"
        },
        "id": "z0guEyo4QUPD",
        "outputId": "1c28c707-454a-4053-928d-0b14fd9006ce"
      },
      "execution_count": null,
      "outputs": [
        {
          "output_type": "stream",
          "name": "stdout",
          "text": [
            "['Hari', 'Owen', 'Yasamin', 'Henry', 'Emmanuel']\n"
          ]
        }
      ]
    },
    {
      "cell_type": "code",
      "source": [
        "section_102 = [\"Hari\", \"Owen\", \"Yasamin\", \"Henry\", \"Emmanuel\"] #index starts with 0!!!!!!!\n",
        "section_102[3] = \"Liam\"\n",
        "print(section_102)"
      ],
      "metadata": {
        "colab": {
          "base_uri": "https://localhost:8080/"
        },
        "id": "lYOfcOvjRA2F",
        "outputId": "1b9c00a7-7601-47c7-eef7-0745e8e35a51"
      },
      "execution_count": null,
      "outputs": [
        {
          "output_type": "stream",
          "name": "stdout",
          "text": [
            "['Hari', 'Owen', 'Yasamin', 'Liam', 'Emmanuel']\n"
          ]
        }
      ]
    },
    {
      "cell_type": "code",
      "source": [
        "section_102 = [\"Hari\", \"Owen\", \"Liam\", \"Henry\", \"Emmanuel\"]\n",
        "section_102.append(\"Yasamin\")\n",
        "print(section_102)"
      ],
      "metadata": {
        "colab": {
          "base_uri": "https://localhost:8080/"
        },
        "id": "kEn15YQHR3Kv",
        "outputId": "71a0b156-2190-483c-c5ad-4f752c7b024e"
      },
      "execution_count": null,
      "outputs": [
        {
          "output_type": "stream",
          "name": "stdout",
          "text": [
            "['Hari', 'Owen', 'Liam', 'Henry', 'Emmanuel', 'Yasamin']\n"
          ]
        }
      ]
    },
    {
      "cell_type": "code",
      "source": [
        "def add (a: float, b: float) -> float:\n",
        "  return (a/b)\n",
        "print(add(a=2,b=4))"
      ],
      "metadata": {
        "colab": {
          "base_uri": "https://localhost:8080/"
        },
        "id": "7UzpWxJBSPlg",
        "outputId": "2b600a40-5d2d-4971-e4a9-d9b8a1a60f99"
      },
      "execution_count": null,
      "outputs": [
        {
          "output_type": "stream",
          "name": "stdout",
          "text": [
            "0.5\n"
          ]
        }
      ]
    },
    {
      "cell_type": "code",
      "source": [
        "def add_1(a:float, b:float) -> float:\n",
        "  print(f\"Adding: {a} + {b}\")\n",
        "  return(a + b)\n",
        "print(add_1(a = 10.2, b= 10.9))"
      ],
      "metadata": {
        "colab": {
          "base_uri": "https://localhost:8080/"
        },
        "id": "KP1ahZScUNxS",
        "outputId": "86972160-d25e-4a13-a156-84c78b0b871e"
      },
      "execution_count": null,
      "outputs": [
        {
          "output_type": "stream",
          "name": "stdout",
          "text": [
            "Adding: 10.2 + 10.9\n",
            "21.1\n"
          ]
        }
      ]
    }
  ]
}