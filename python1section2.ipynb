{
  "nbformat": 4,
  "nbformat_minor": 0,
  "metadata": {
    "colab": {
      "provenance": [],
      "authorship_tag": "ABX9TyOs23Y0GuFza3nxzaBk6Z3O",
      "include_colab_link": true
    },
    "kernelspec": {
      "name": "python3",
      "display_name": "Python 3"
    },
    "language_info": {
      "name": "python"
    }
  },
  "cells": [
    {
      "cell_type": "markdown",
      "metadata": {
        "id": "view-in-github",
        "colab_type": "text"
      },
      "source": [
        "<a href=\"https://colab.research.google.com/github/HadaviY/Python1Part2/blob/main/python1section2.ipynb\" target=\"_parent\"><img src=\"https://colab.research.google.com/assets/colab-badge.svg\" alt=\"Open In Colab\"/></a>"
      ]
    },
    {
      "cell_type": "code",
      "execution_count": 18,
      "metadata": {
        "id": "LMOEFlyMOo9U",
        "colab": {
          "base_uri": "https://localhost:8080/"
        },
        "outputId": "8962a788-0465-45d7-e75e-c28bcc80d9f0"
      },
      "outputs": [
        {
          "output_type": "stream",
          "name": "stdout",
          "text": [
            "25\n"
          ]
        }
      ],
      "source": [
        "def add (a:float, b:float) -> float:\n",
        "  return (a + b)\n",
        "print (add(a= 10, b= 15))"
      ]
    },
    {
      "cell_type": "code",
      "source": [
        "def add (a:float, b:float) -> float:\n",
        "  return (a + b)\n",
        "print(add(a = 10, b= 15))"
      ],
      "metadata": {
        "colab": {
          "base_uri": "https://localhost:8080/"
        },
        "id": "_HcQv09ArM64",
        "outputId": "16330417-94cd-4174-a15c-a7b20ee1c966"
      },
      "execution_count": 19,
      "outputs": [
        {
          "output_type": "stream",
          "name": "stdout",
          "text": [
            "25\n"
          ]
        }
      ]
    },
    {
      "cell_type": "code",
      "source": [
        "def greet(name: str, greeting:str) -> None:\n",
        "  print(f\"{greeting}, {name}!\")\n",
        "greet(name=\"Alice\", greeting=\"Hello\")"
      ],
      "metadata": {
        "colab": {
          "base_uri": "https://localhost:8080/"
        },
        "id": "uI6opvj8rsWM",
        "outputId": "38a3520a-ca54-4041-e83c-f6d69bb4e1ce"
      },
      "execution_count": 20,
      "outputs": [
        {
          "output_type": "stream",
          "name": "stdout",
          "text": [
            "Hello, Alice!\n"
          ]
        }
      ]
    },
    {
      "cell_type": "code",
      "source": [
        "def greet(name: str, greeting: str = \"Hi\") -> None:\n",
        "  print(f\"{greeting}, {name}!\")\n",
        "greet(name=\"Alice\")"
      ],
      "metadata": {
        "colab": {
          "base_uri": "https://localhost:8080/"
        },
        "id": "hxEOlaH4sNJD",
        "outputId": "717474b6-03c5-444f-fdff-c1c5a80fa61a"
      },
      "execution_count": 21,
      "outputs": [
        {
          "output_type": "stream",
          "name": "stdout",
          "text": [
            "Hi, Alice!\n"
          ]
        }
      ]
    },
    {
      "cell_type": "code",
      "source": [
        "def func() -> None:\n",
        "  print(\"Hello, World!\")\n",
        "func()"
      ],
      "metadata": {
        "colab": {
          "base_uri": "https://localhost:8080/"
        },
        "id": "Ok4S5d_TtC49",
        "outputId": "575c4a0a-4160-46b5-add6-ea32a3400aaf"
      },
      "execution_count": 22,
      "outputs": [
        {
          "output_type": "stream",
          "name": "stdout",
          "text": [
            "Hello, World!\n"
          ]
        }
      ]
    },
    {
      "cell_type": "code",
      "source": [
        "Names: list[str] = [\"Anthony\", \"April\", \"Alexa\", \"Alex\"]\n",
        "for name in Names:\n",
        "  print(name)"
      ],
      "metadata": {
        "colab": {
          "base_uri": "https://localhost:8080/"
        },
        "id": "MozKtOmttktA",
        "outputId": "2a688641-d293-4697-8854-2ffd27f40afe"
      },
      "execution_count": 23,
      "outputs": [
        {
          "output_type": "stream",
          "name": "stdout",
          "text": [
            "Anthony\n",
            "April\n",
            "Alexa\n",
            "Alex\n"
          ]
        }
      ]
    },
    {
      "cell_type": "code",
      "source": [
        "names: list[str] = [\"amtrak\",\"Anthony\", \"April\", \"Alexa\", \"Alex\"]\n",
        "print(names[0])\n",
        "print(names[0].title())"
      ],
      "metadata": {
        "colab": {
          "base_uri": "https://localhost:8080/"
        },
        "id": "wMe_gPSwy8-c",
        "outputId": "5f850598-b03a-4a2f-a532-ffc549490b2b"
      },
      "execution_count": null,
      "outputs": [
        {
          "output_type": "stream",
          "name": "stdout",
          "text": [
            "amtrak\n",
            "Amtrak\n"
          ]
        }
      ]
    },
    {
      "cell_type": "code",
      "source": [
        "motorcycles: list[str] = [\"honda\", \"yamaha\", \"suzuki\"]\n",
        "print(motorcycles)\n",
        "motorcycles[0] = \"ducati\"\n",
        "print(motorcycles)"
      ],
      "metadata": {
        "colab": {
          "base_uri": "https://localhost:8080/"
        },
        "id": "F83B0xEW0L7l",
        "outputId": "e77813fc-f019-45c1-b801-1efa7d42dae5"
      },
      "execution_count": null,
      "outputs": [
        {
          "output_type": "stream",
          "name": "stdout",
          "text": [
            "['honda', 'yamaha', 'suzuki']\n",
            "['ducati', 'yamaha', 'suzuki']\n"
          ]
        }
      ]
    },
    {
      "cell_type": "code",
      "source": [
        "motorcycles: list[str] = [\"honda\", \"yamaha\", \"suzuki\"]\n",
        "print(motorcycles)\n",
        "motorcycles.append(\"ducati\")\n",
        "print(motorcycles)"
      ],
      "metadata": {
        "colab": {
          "base_uri": "https://localhost:8080/"
        },
        "id": "LgyTtmoP0YXZ",
        "outputId": "f12eaea1-d970-41d0-92a7-01b716716908"
      },
      "execution_count": null,
      "outputs": [
        {
          "output_type": "stream",
          "name": "stdout",
          "text": [
            "['honda', 'yamaha', 'suzuki']\n",
            "['honda', 'yamaha', 'suzuki', 'ducati']\n"
          ]
        }
      ]
    },
    {
      "cell_type": "code",
      "source": [
        "age = 12 #using multiple elif blocks\n",
        "\n",
        "if age < 4:\n",
        "  price = 0\n",
        "elif age < 18:\n",
        "  price = 5\n",
        "elif age < 65:\n",
        "  price = 10\n",
        "elif age >= 65:\n",
        "  price = 5\n",
        "print(f\"Your admission cost is ${price}.\")"
      ],
      "metadata": {
        "colab": {
          "base_uri": "https://localhost:8080/"
        },
        "id": "nz77sDtA1NUS",
        "outputId": "99543325-206b-44a2-f975-951264ff0e61"
      },
      "execution_count": null,
      "outputs": [
        {
          "output_type": "stream",
          "name": "stdout",
          "text": [
            "Your admission cost is $5.\n"
          ]
        }
      ]
    }
  ]
}