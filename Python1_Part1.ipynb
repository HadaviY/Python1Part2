{
  "nbformat": 4,
  "nbformat_minor": 0,
  "metadata": {
    "colab": {
      "provenance": [],
      "authorship_tag": "ABX9TyPrbko8A0KW2MiwdEo4dsVG",
      "include_colab_link": true
    },
    "kernelspec": {
      "name": "python3",
      "display_name": "Python 3"
    },
    "language_info": {
      "name": "python"
    }
  },
  "cells": [
    {
      "cell_type": "markdown",
      "metadata": {
        "id": "view-in-github",
        "colab_type": "text"
      },
      "source": [
        "<a href=\"https://colab.research.google.com/github/HadaviY/Python1Part2/blob/main/Python1_Part1.ipynb\" target=\"_parent\"><img src=\"https://colab.research.google.com/assets/colab-badge.svg\" alt=\"Open In Colab\"/></a>"
      ]
    },
    {
      "cell_type": "markdown",
      "source": [
        "# **1. Hello World**\n",
        "\n"
      ],
      "metadata": {
        "id": "fpK1W4qNuPE4"
      }
    },
    {
      "cell_type": "code",
      "execution_count": 1,
      "metadata": {
        "id": "WjFx_XrFPhXi",
        "colab": {
          "base_uri": "https://localhost:8080/"
        },
        "outputId": "adf67f24-ea7d-453d-b5f1-30c1abc3da4f"
      },
      "outputs": [
        {
          "output_type": "stream",
          "name": "stdout",
          "text": [
            "Hello World\n"
          ]
        }
      ],
      "source": [
        "print(\"Hello World\")"
      ]
    },
    {
      "cell_type": "markdown",
      "source": [
        "# **2. input() Function in Python**"
      ],
      "metadata": {
        "id": "dRrFuqWdvglX"
      }
    },
    {
      "cell_type": "code",
      "source": [
        "sample = input(\"which city are you from?\")\n",
        "print(sample + \" is a beautiful city\")"
      ],
      "metadata": {
        "colab": {
          "base_uri": "https://localhost:8080/"
        },
        "id": "17Z9Gw4lwfbH",
        "outputId": "f69fe872-5d0b-4073-dc0f-62548ea1e975"
      },
      "execution_count": 2,
      "outputs": [
        {
          "output_type": "stream",
          "name": "stdout",
          "text": [
            "which city are you from?Tehran\n",
            "Tehran is a beautiful city\n"
          ]
        }
      ]
    },
    {
      "cell_type": "markdown",
      "source": [
        "# **3. Operators in Python**"
      ],
      "metadata": {
        "id": "Kx1aZAahw3Co"
      }
    },
    {
      "cell_type": "code",
      "source": [
        "7 + 5"
      ],
      "metadata": {
        "colab": {
          "base_uri": "https://localhost:8080/"
        },
        "id": "HYOggcHCxqwB",
        "outputId": "ef808275-8616-436c-f83d-6a6d48549d21"
      },
      "execution_count": 3,
      "outputs": [
        {
          "output_type": "execute_result",
          "data": {
            "text/plain": [
              "12"
            ]
          },
          "metadata": {},
          "execution_count": 3
        }
      ]
    },
    {
      "cell_type": "code",
      "source": [
        "18 - 7.8"
      ],
      "metadata": {
        "colab": {
          "base_uri": "https://localhost:8080/"
        },
        "id": "X3IKqGDZyKPr",
        "outputId": "7af7840f-f0ce-4833-cab1-556ddedda64b"
      },
      "execution_count": 4,
      "outputs": [
        {
          "output_type": "execute_result",
          "data": {
            "text/plain": [
              "10.2"
            ]
          },
          "metadata": {},
          "execution_count": 4
        }
      ]
    },
    {
      "cell_type": "code",
      "source": [
        "100 / 1.5"
      ],
      "metadata": {
        "colab": {
          "base_uri": "https://localhost:8080/"
        },
        "id": "fjImU-qmyOF8",
        "outputId": "19de974c-5298-45b2-ffb1-6a0aec03abe0"
      },
      "execution_count": 5,
      "outputs": [
        {
          "output_type": "execute_result",
          "data": {
            "text/plain": [
              "66.66666666666667"
            ]
          },
          "metadata": {},
          "execution_count": 5
        }
      ]
    },
    {
      "cell_type": "markdown",
      "source": [
        "# **4. Commenting in Python**\n",
        "\n",
        "Use # (number sign) to comment your codes\n",
        "\n",
        "Python will ignore anything in a line that follows #\n",
        "\n",
        "It is a good idea to comment your codes so that others can understand what you are trying to do."
      ],
      "metadata": {
        "id": "jQ-S78z3ypj_"
      }
    },
    {
      "cell_type": "code",
      "source": [
        "# This is a comment"
      ],
      "metadata": {
        "id": "HWqRstyUyuIo"
      },
      "execution_count": null,
      "outputs": []
    },
    {
      "cell_type": "code",
      "source": [
        "9**1.5   # square root"
      ],
      "metadata": {
        "colab": {
          "base_uri": "https://localhost:8080/"
        },
        "id": "8h_kaLGuzM7c",
        "outputId": "cb521493-ce9a-48f7-9a76-845ed4580c4b"
      },
      "execution_count": 6,
      "outputs": [
        {
          "output_type": "execute_result",
          "data": {
            "text/plain": [
              "27.0"
            ]
          },
          "metadata": {},
          "execution_count": 6
        }
      ]
    },
    {
      "cell_type": "code",
      "source": [
        "round(2.6) # rounding numbers"
      ],
      "metadata": {
        "colab": {
          "base_uri": "https://localhost:8080/"
        },
        "id": "uppBqz00zXEt",
        "outputId": "0614f8d0-9f77-4797-91be-716a86a08908"
      },
      "execution_count": 7,
      "outputs": [
        {
          "output_type": "execute_result",
          "data": {
            "text/plain": [
              "3"
            ]
          },
          "metadata": {},
          "execution_count": 7
        }
      ]
    },
    {
      "cell_type": "markdown",
      "source": [
        "# **5. Variables in Python**"
      ],
      "metadata": {
        "id": "ZSxbZLH0zeTe"
      }
    },
    {
      "cell_type": "code",
      "source": [
        "print(\"This is an intro to Python\") # simply printing the sentences without storing it in the memory"
      ],
      "metadata": {
        "colab": {
          "base_uri": "https://localhost:8080/"
        },
        "id": "dW5hhnxeziwH",
        "outputId": "fd7f1f16-692d-47c3-c61a-1e33c8761e6f"
      },
      "execution_count": 8,
      "outputs": [
        {
          "output_type": "stream",
          "name": "stdout",
          "text": [
            "This is an intro to Python\n"
          ]
        }
      ]
    },
    {
      "cell_type": "code",
      "source": [
        "sample = \"This is an intro to Python\" # defining the variable x\n",
        "print(sample) # printing x on the screen"
      ],
      "metadata": {
        "colab": {
          "base_uri": "https://localhost:8080/"
        },
        "id": "8_qRc4VHztDo",
        "outputId": "0f7ff7c5-126f-4222-fd25-887c50d77136"
      },
      "execution_count": 9,
      "outputs": [
        {
          "output_type": "stream",
          "name": "stdout",
          "text": [
            "This is an intro to Python\n"
          ]
        }
      ]
    },
    {
      "cell_type": "code",
      "source": [
        "sample = \"This is an intro to Python\" # defining the variable x\n",
        "print(sample) # printing x on the screen\n",
        "\n",
        "sample = \"This is an advanced Python\" # defining the variable x\n",
        "print(sample) # printing x on the screen"
      ],
      "metadata": {
        "colab": {
          "base_uri": "https://localhost:8080/"
        },
        "id": "Ix3lRwYG0IWU",
        "outputId": "1680337b-f9b7-4a23-a8a9-d59b6a27ea73"
      },
      "execution_count": 10,
      "outputs": [
        {
          "output_type": "stream",
          "name": "stdout",
          "text": [
            "This is an intro to Python\n",
            "This is an advanced Python\n"
          ]
        }
      ]
    },
    {
      "cell_type": "markdown",
      "source": [
        "# **6. Basic Data Types**\n",
        "\n",
        "**6.1 Integers: int**"
      ],
      "metadata": {
        "id": "tVVLokZ00gzf"
      }
    },
    {
      "cell_type": "code",
      "source": [
        "x = 2\n",
        "print(x)"
      ],
      "metadata": {
        "colab": {
          "base_uri": "https://localhost:8080/"
        },
        "id": "ES4HkNKV0rHZ",
        "outputId": "db074bc7-73c8-454c-c20f-dbdc147be8de"
      },
      "execution_count": 11,
      "outputs": [
        {
          "output_type": "stream",
          "name": "stdout",
          "text": [
            "2\n"
          ]
        }
      ]
    },
    {
      "cell_type": "code",
      "source": [
        "type(x)"
      ],
      "metadata": {
        "colab": {
          "base_uri": "https://localhost:8080/"
        },
        "id": "gw5N1C7P0w1Y",
        "outputId": "d8f269d9-1d38-4578-fa6c-38d951e75873"
      },
      "execution_count": 12,
      "outputs": [
        {
          "output_type": "execute_result",
          "data": {
            "text/plain": [
              "int"
            ]
          },
          "metadata": {},
          "execution_count": 12
        }
      ]
    },
    {
      "cell_type": "markdown",
      "source": [
        "**6.2 Floating-Point Numbers: float**"
      ],
      "metadata": {
        "id": "Hqpn9sVb0zfK"
      }
    },
    {
      "cell_type": "code",
      "source": [
        "y = 3.1\n",
        "print(y)"
      ],
      "metadata": {
        "colab": {
          "base_uri": "https://localhost:8080/"
        },
        "id": "tRYTYmZt06SC",
        "outputId": "c73eda65-8aba-4bc0-ba72-deea9cad8fd3"
      },
      "execution_count": 13,
      "outputs": [
        {
          "output_type": "stream",
          "name": "stdout",
          "text": [
            "3.1\n"
          ]
        }
      ]
    },
    {
      "cell_type": "code",
      "source": [
        "type(y)"
      ],
      "metadata": {
        "colab": {
          "base_uri": "https://localhost:8080/"
        },
        "id": "PFjcNsoD0-76",
        "outputId": "69bf05dc-1908-4f7e-b78a-f73c2732d604"
      },
      "execution_count": 14,
      "outputs": [
        {
          "output_type": "execute_result",
          "data": {
            "text/plain": [
              "float"
            ]
          },
          "metadata": {},
          "execution_count": 14
        }
      ]
    },
    {
      "cell_type": "markdown",
      "source": [
        "**6.3 Boolean Data Type:**"
      ],
      "metadata": {
        "id": "7OaozSOd1BTK"
      }
    },
    {
      "cell_type": "code",
      "source": [
        "A = 23\n",
        "B = 56\n",
        "print(A > B)"
      ],
      "metadata": {
        "colab": {
          "base_uri": "https://localhost:8080/"
        },
        "id": "6Cw-HE6l1FvT",
        "outputId": "d6fea2bf-15f1-4540-e23b-563cf5b2aea9"
      },
      "execution_count": 15,
      "outputs": [
        {
          "output_type": "stream",
          "name": "stdout",
          "text": [
            "False\n"
          ]
        }
      ]
    },
    {
      "cell_type": "code",
      "source": [
        "type (A > B)"
      ],
      "metadata": {
        "colab": {
          "base_uri": "https://localhost:8080/"
        },
        "id": "My6YlfZr1dr7",
        "outputId": "2a6ce6be-e81a-447a-90f5-7cc2c7fd361b"
      },
      "execution_count": 16,
      "outputs": [
        {
          "output_type": "execute_result",
          "data": {
            "text/plain": [
              "bool"
            ]
          },
          "metadata": {},
          "execution_count": 16
        }
      ]
    },
    {
      "cell_type": "markdown",
      "source": [
        "**6.4 String: str**\n",
        "\n",
        "Python has great support for strings:"
      ],
      "metadata": {
        "id": "bu6tbUXV1hHr"
      }
    },
    {
      "cell_type": "code",
      "source": [
        "# Single quotes\n",
        "Text = 'This is a string'\n",
        "print(Text)"
      ],
      "metadata": {
        "colab": {
          "base_uri": "https://localhost:8080/"
        },
        "id": "krQm3tl31qDH",
        "outputId": "560b5350-d900-48e4-bac7-000f2f29181b"
      },
      "execution_count": 17,
      "outputs": [
        {
          "output_type": "stream",
          "name": "stdout",
          "text": [
            "This is a string\n"
          ]
        }
      ]
    },
    {
      "cell_type": "code",
      "source": [
        "# Double quotes\n",
        "Text = \"This is a string\"\n",
        "print(Text)"
      ],
      "metadata": {
        "colab": {
          "base_uri": "https://localhost:8080/"
        },
        "id": "x_sOFVd81yCE",
        "outputId": "343d6251-e189-4537-ab01-5c3af649c4a9"
      },
      "execution_count": 18,
      "outputs": [
        {
          "output_type": "stream",
          "name": "stdout",
          "text": [
            "This is a string\n"
          ]
        }
      ]
    },
    {
      "cell_type": "code",
      "source": [
        "# 3 Single quotes\n",
        "Text = '''This is a string'''\n",
        "print(Text)"
      ],
      "metadata": {
        "colab": {
          "base_uri": "https://localhost:8080/"
        },
        "id": "FlQp3CtW2HmW",
        "outputId": "3f3fb5a4-5acf-4341-8d11-cf00d6f52498"
      },
      "execution_count": 19,
      "outputs": [
        {
          "output_type": "stream",
          "name": "stdout",
          "text": [
            "This is a string\n"
          ]
        }
      ]
    },
    {
      "cell_type": "code",
      "source": [
        "# 3 Double quotes\n",
        "Text = \"\"\"This is a string\"\"\"\n",
        "print(Text)"
      ],
      "metadata": {
        "colab": {
          "base_uri": "https://localhost:8080/"
        },
        "id": "EijRSYKI2ONW",
        "outputId": "3f405e17-2a43-4e23-ae90-4530a3189795"
      },
      "execution_count": 20,
      "outputs": [
        {
          "output_type": "stream",
          "name": "stdout",
          "text": [
            "This is a string\n"
          ]
        }
      ]
    },
    {
      "cell_type": "markdown",
      "source": [
        "**6.4.1 Multiply**"
      ],
      "metadata": {
        "id": "i6G1eUUx2nmV"
      }
    },
    {
      "cell_type": "code",
      "source": [
        "example = 'Yes, ' * 3\n",
        "print(example)"
      ],
      "metadata": {
        "colab": {
          "base_uri": "https://localhost:8080/"
        },
        "id": "dqqQ2sGm2r_a",
        "outputId": "b3327cbb-c694-4f85-c670-36f7fbe785b0"
      },
      "execution_count": 21,
      "outputs": [
        {
          "output_type": "stream",
          "name": "stdout",
          "text": [
            "Yes, Yes, Yes, \n"
          ]
        }
      ]
    },
    {
      "cell_type": "markdown",
      "source": [
        "**6.4.2 Appending**"
      ],
      "metadata": {
        "id": "7QykTOTz2_ke"
      }
    },
    {
      "cell_type": "code",
      "source": [
        "example = \"Today is a beautiful day \"\n",
        "example += \"to learn Python\"\n",
        "print(example)"
      ],
      "metadata": {
        "colab": {
          "base_uri": "https://localhost:8080/"
        },
        "id": "kdoG5i0i26Em",
        "outputId": "ac73161b-5786-48d4-fe82-29093a749f32"
      },
      "execution_count": 22,
      "outputs": [
        {
          "output_type": "stream",
          "name": "stdout",
          "text": [
            "Today is a beautiful day to learn Python\n"
          ]
        }
      ]
    },
    {
      "cell_type": "markdown",
      "source": [
        "**6.4.3 Lower & Upper Case**"
      ],
      "metadata": {
        "id": "o-TEbhnq3lFE"
      }
    },
    {
      "cell_type": "code",
      "source": [
        "sentence1 = \"Asia is the Biggest Continent\"\n",
        "sample = sentence1.lower()\n",
        "print(sample)"
      ],
      "metadata": {
        "colab": {
          "base_uri": "https://localhost:8080/"
        },
        "id": "SVURnKHM36c_",
        "outputId": "165519d1-fbbe-4062-b2ff-b2cd9bb0fdd0"
      },
      "execution_count": 24,
      "outputs": [
        {
          "output_type": "stream",
          "name": "stdout",
          "text": [
            "asia is the biggest continent\n"
          ]
        }
      ]
    },
    {
      "cell_type": "code",
      "source": [
        "sentence2 =\"Asia is the Biggest Continent\"\n",
        "sample = sentence2.upper()\n",
        "print(sample)"
      ],
      "metadata": {
        "colab": {
          "base_uri": "https://localhost:8080/"
        },
        "id": "A9jsIRHy4Ira",
        "outputId": "d4b65b61-6264-47f9-c327-e405bfbc14b3"
      },
      "execution_count": 26,
      "outputs": [
        {
          "output_type": "stream",
          "name": "stdout",
          "text": [
            "ASIA IS THE BIGGEST CONTINENT\n"
          ]
        }
      ]
    },
    {
      "cell_type": "markdown",
      "source": [
        "**6.4.4 Title**\n",
        "\n",
        "Make the 1st letter in every word capitalized"
      ],
      "metadata": {
        "id": "D7Zb-Wfb4mmJ"
      }
    },
    {
      "cell_type": "code",
      "source": [
        "sentence3 = \"asia is the biggest continent\"\n",
        "sample = sentence3.title()\n",
        "print(sample)"
      ],
      "metadata": {
        "colab": {
          "base_uri": "https://localhost:8080/"
        },
        "id": "PXBQYrDK40la",
        "outputId": "4a0e77c3-ddda-417a-a0d6-aa58fb566599"
      },
      "execution_count": 27,
      "outputs": [
        {
          "output_type": "stream",
          "name": "stdout",
          "text": [
            "Asia Is The Biggest Continent\n"
          ]
        }
      ]
    },
    {
      "cell_type": "markdown",
      "source": [
        "# **7. The str(), int(), and float() Functions**\n",
        "\n",
        "You can use these three functions to convert strings, integers, and floating point values to each other"
      ],
      "metadata": {
        "id": "qnHJ7EhG5aFZ"
      }
    },
    {
      "cell_type": "code",
      "source": [
        "x = str(3.2)\n",
        "print(x)\n",
        "print(type(x))"
      ],
      "metadata": {
        "colab": {
          "base_uri": "https://localhost:8080/"
        },
        "id": "9tnxcK4g6BU2",
        "outputId": "e0e5e4ce-364c-4cac-90ea-5a288c31e609"
      },
      "execution_count": 28,
      "outputs": [
        {
          "output_type": "stream",
          "name": "stdout",
          "text": [
            "3.2\n",
            "<class 'str'>\n"
          ]
        }
      ]
    },
    {
      "cell_type": "code",
      "source": [
        "x = int(3.3)\n",
        "print(x)\n",
        "print(type(x))"
      ],
      "metadata": {
        "colab": {
          "base_uri": "https://localhost:8080/"
        },
        "id": "EvFeJ4y_6J2w",
        "outputId": "520ce57a-75bf-4328-b7a1-824dfe1d3111"
      },
      "execution_count": 29,
      "outputs": [
        {
          "output_type": "stream",
          "name": "stdout",
          "text": [
            "3\n",
            "<class 'int'>\n"
          ]
        }
      ]
    },
    {
      "cell_type": "code",
      "source": [
        "x = float(\"3.4\")\n",
        "print(x)\n",
        "print(type(x))"
      ],
      "metadata": {
        "colab": {
          "base_uri": "https://localhost:8080/"
        },
        "id": "HYf_80KE6RPI",
        "outputId": "663bd624-a87a-489a-b1e2-b78f39d34a21"
      },
      "execution_count": 30,
      "outputs": [
        {
          "output_type": "stream",
          "name": "stdout",
          "text": [
            "3.4\n",
            "<class 'float'>\n"
          ]
        }
      ]
    }
  ]
}